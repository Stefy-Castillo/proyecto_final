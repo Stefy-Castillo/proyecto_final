{
 "cells": [
  {
   "cell_type": "code",
   "execution_count": 1,
   "id": "5161b5eb",
   "metadata": {},
   "outputs": [],
   "source": [
    "# Función para extraer comentarios de una página específica\n",
    "def extraer_comentarios(url, nombre_show, nombre_local):\n",
    "    \"\"\"\n",
    "    Esta función extrae comentarios de una página web y devuelve una lista de diccionarios con información detallada sobre cada comentario.\n",
    "    \n",
    "    Requiere las siguientes bibliotecas:\n",
    "    - requests\n",
    "    - BeautifulSoup (bs4)\n",
    "    \"\"\"\n",
    "    response = requests.get(url)\n",
    "    soup = BeautifulSoup(response.content, \"html.parser\")\n",
    "    comentarios = soup.select(\".rws-results-review-item\")\n",
    "    lista_comentarios = []\n",
    "\n",
    "    for comentario in comentarios:\n",
    "        nota_total = comentario.select_one(\".aui-ratingBadge--large\").text\n",
    "        fecha = comentario.select_one(\".meta-info__date\").text\n",
    "        grupo_de = comentario.select_one(\".meta-info__company .aui-badge-text\").text\n",
    "\n",
    "        aspectos = comentario.select(\".rws-circle-chart-list__item\")\n",
    "\n",
    "        if aspectos:\n",
    "            calidad = aspectos[0].select_one(\".rws-circle-chart__value-container span\").text\n",
    "            puesta_en_escena = aspectos[1].select_one(\".rws-circle-chart__value-container span\").text\n",
    "            interpretacion = aspectos[2].select_one(\".rws-circle-chart__value-container span\").text\n",
    "\n",
    "            comentario_dict = {\n",
    "                \"fecha\": fecha,\n",
    "                \"nota_total\": nota_total,\n",
    "                \"grupo_de\": grupo_de,\n",
    "                \"calidad_del_espectáculo\": calidad,\n",
    "                \"puesta_en_escena\": puesta_en_escena,\n",
    "                \"interpretación_artística\": interpretacion,\n",
    "                \"nombre_show\": nombre_show,  \n",
    "                \"nombre_local\": nombre_local  \n",
    "            }\n",
    "\n",
    "            lista_comentarios.append(comentario_dict)\n",
    "\n",
    "    return lista_comentarios"
   ]
  },
  {
   "cell_type": "code",
   "execution_count": 2,
   "id": "835ecd71",
   "metadata": {},
   "outputs": [],
   "source": [
    "def convertir_fecha(fecha):\n",
    "    meses = {\n",
    "        \"enero\": \"January\",\n",
    "        \"febrero\": \"February\",\n",
    "        \"marzo\": \"March\",\n",
    "        \"abril\": \"April\",\n",
    "        \"mayo\": \"May\",\n",
    "        \"junio\": \"June\",\n",
    "        \"julio\": \"July\",\n",
    "        \"agosto\": \"August\",\n",
    "        \"septiembre\": \"September\",\n",
    "        \"octubre\": \"October\",\n",
    "        \"noviembre\": \"November\",\n",
    "        \"diciembre\": \"December\"\n",
    "    }\n",
    "    partes = fecha.split()\n",
    "    partes[1] = meses[unidecode(partes[1].lower())]\n",
    "    fecha_nueva = \" \".join(partes)\n",
    "    return pd.to_datetime(fecha_nueva, format='%d %B %Y', errors='coerce')"
   ]
  }
 ],
 "metadata": {
  "kernelspec": {
   "display_name": "proyecto_final",
   "language": "python",
   "name": "proyecto_final"
  },
  "language_info": {
   "codemirror_mode": {
    "name": "ipython",
    "version": 3
   },
   "file_extension": ".py",
   "mimetype": "text/x-python",
   "name": "python",
   "nbconvert_exporter": "python",
   "pygments_lexer": "ipython3",
   "version": "3.11.5"
  }
 },
 "nbformat": 4,
 "nbformat_minor": 5
}
